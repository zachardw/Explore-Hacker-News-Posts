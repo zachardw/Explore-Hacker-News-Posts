{
 "cells": [
  {
   "cell_type": "markdown",
   "metadata": {
    "collapsed": true
   },
   "source": [
    "# Exploring Hacker News Posts\n",
    "\n",
    "## Introduction\n",
    "In this project, I will be working with a data set of submissions to popular technology site [Hacker News](https://news.ycombinator.com/), a site started by incubator [Y Combinator](https://www.ycombinator.com/), where user-submitted stories (\"posts\") are voted and commented upon, similar to reddit. It's extremely popular among tech and startup circles.\n",
    "\n",
    "We will be working with the following [dataset](https://www.kaggle.com/hacker-news/hacker-news-posts), totaling approximately 20,000 rows with 7 columns, with the following column descriptions:\n",
    "* id: The unique identifier from Hacker News for the post\n",
    "* title: The title of the post\n",
    "* url: The URL that the posts links to, if the post has a URL\n",
    "* num_points: The number of points the post acquired, calculated as the total number of upvotes minus the total number of downvotes\n",
    "* num_comments: The number of comments that were made on the post\n",
    "* author: The username of the person who submitted the post\n",
    "* created_at: The date and time at which the post was submitted\n",
    "\n",
    "## Objective\n",
    "\n",
    "We are specifically interested in posts whose titles begin with **Ask HN** or **Show HN**. Both types of posts seek to engage and warrant response from the Hacker News community so our goal is to compare the two types of posts to determine:\n",
    "* Do **Ask HN** or **Show HN** receive more comments (thus engagement) on average?\n",
    "* Do posts created at a *certain time* receive more comments on average?\n",
    "\n",
    "\n",
    "\n",
    "\n"
   ]
  },
  {
   "cell_type": "markdown",
   "metadata": {},
   "source": [
    "### Conclusion\n",
    "\n",
    "After analyzing the data, we can say first that **Ask HN** posts receive more comments than **Show HN** posts. Second, the time of posting has an impact on the average number of comments per post. Analyzing just the **Ask HN** post category, those posted at 15:00pm or 3:00pm ET receive, on average, the highest number of comments, and thus, engagement. "
   ]
  },
  {
   "cell_type": "markdown",
   "metadata": {},
   "source": [
    "## Exploring the data"
   ]
  },
  {
   "cell_type": "code",
   "execution_count": 1,
   "metadata": {
    "scrolled": true
   },
   "outputs": [
    {
     "name": "stdout",
     "output_type": "stream",
     "text": [
      "['id', 'title', 'url', 'num_points', 'num_comments', 'author', 'created_at']\n",
      "\n",
      "\n",
      "['12224879', 'Interactive Dynamic Video', 'http://www.interactivedynamicvideo.com/', '386', '52', 'ne0phyte', '8/4/2016 11:52']\n",
      "\n",
      "\n",
      "['10975351', 'How to Use Open Source and Shut the Fuck Up at the Same Time', 'http://hueniverse.com/2016/01/26/how-to-use-open-source-and-shut-the-fuck-up-at-the-same-time/', '39', '10', 'josep2', '1/26/2016 19:30']\n",
      "\n",
      "\n",
      "['11964716', \"Florida DJs May Face Felony for April Fools' Water Joke\", 'http://www.thewire.com/entertainment/2013/04/florida-djs-april-fools-water-joke/63798/', '2', '1', 'vezycash', '6/23/2016 22:20']\n",
      "\n",
      "\n",
      "['11919867', 'Technology ventures: From Idea to Enterprise', 'https://www.amazon.com/Technology-Ventures-Enterprise-Thomas-Byers/dp/0073523429', '3', '1', 'hswarna', '6/17/2016 0:01']\n",
      "\n",
      "\n",
      "The data set has 20101 rows.\n",
      "Each row has 7 columns.\n"
     ]
    }
   ],
   "source": [
    "#First let's read the hacker_news.csv file and display the first five rows\n",
    "\n",
    "from csv import reader\n",
    "opened_file = open('hacker_news.csv')\n",
    "read_file = reader(opened_file)\n",
    "hn = list(read_file)\n",
    "\n",
    "for row in hn[:5]:\n",
    "    print(row)\n",
    "    print(\"\\n\")\n",
    "\n",
    "print('The data set has ' + str(len(hn)) + ' rows.')\n",
    "print('Each row has ' + str(len(hn[0]))+ ' columns.')"
   ]
  },
  {
   "cell_type": "code",
   "execution_count": 2,
   "metadata": {},
   "outputs": [
    {
     "name": "stdout",
     "output_type": "stream",
     "text": [
      "Header: ['id', 'title', 'url', 'num_points', 'num_comments', 'author', 'created_at']\n",
      "\n",
      "\n",
      "First 5 Rows without Header : [['12224879', 'Interactive Dynamic Video', 'http://www.interactivedynamicvideo.com/', '386', '52', 'ne0phyte', '8/4/2016 11:52'], ['10975351', 'How to Use Open Source and Shut the Fuck Up at the Same Time', 'http://hueniverse.com/2016/01/26/how-to-use-open-source-and-shut-the-fuck-up-at-the-same-time/', '39', '10', 'josep2', '1/26/2016 19:30'], ['11964716', \"Florida DJs May Face Felony for April Fools' Water Joke\", 'http://www.thewire.com/entertainment/2013/04/florida-djs-april-fools-water-joke/63798/', '2', '1', 'vezycash', '6/23/2016 22:20'], ['11919867', 'Technology ventures: From Idea to Enterprise', 'https://www.amazon.com/Technology-Ventures-Enterprise-Thomas-Byers/dp/0073523429', '3', '1', 'hswarna', '6/17/2016 0:01'], ['10301696', 'Note by Note: The Making of Steinway L1037 (2007)', 'http://www.nytimes.com/2007/11/07/movies/07stein.html?_r=0', '8', '2', 'walterbell', '9/30/2015 4:12']]\n"
     ]
    }
   ],
   "source": [
    "#Next let's remove the headers to properly analyze our data\n",
    "headers = hn[0]\n",
    "hn = hn[1:]\n",
    "\n",
    "print(f\"Header: {headers}\")\n",
    "print(\"\\n\")\n",
    "print(f\"First 5 Rows without Header : {hn[0:5]}\")"
   ]
  },
  {
   "cell_type": "markdown",
   "metadata": {},
   "source": [
    "Now that we have removed the headers from our dataset, let's filter the data. Since we are only concerned with post titles beginning with **Ask Hn** or **Show HN**, we';ll create a new lists containing just the data with those titles. \n",
    "\n",
    "To find those posts, we'll use the string method *startswith* to see if they begin with either of the above as well as the *lower* method to account of case variations (lowercase or uppercase). "
   ]
  },
  {
   "cell_type": "markdown",
   "metadata": {},
   "source": [
    "# Data Analysis"
   ]
  },
  {
   "cell_type": "code",
   "execution_count": 3,
   "metadata": {},
   "outputs": [],
   "source": [
    "#First i will create three empty lists\n",
    "ask_posts = []\n",
    "show_posts = []\n",
    "other_posts = []\n",
    "\n",
    "#Then we will loop through each row in our dataset\n",
    "#to separate the different posts\n",
    "\n",
    "for row in hn:\n",
    "    \n",
    "    title = row[1]\n",
    "    \n",
    "    #to account for variance in case-use, let's convert\n",
    "    #the titles to lowercase for consistency when checking\n",
    "    \n",
    "    title = title.lower() \n",
    "    \n",
    "    #Finally we will separate the posts into our three different lists\n",
    "    #for analysis\n",
    "    \n",
    "    if title.startswith(\"ask hn\"):\n",
    "        ask_posts.append(row)\n",
    "    elif title.startswith(\"show hn\"):\n",
    "        show_posts.append(row)\n",
    "    else:\n",
    "        other_posts.append(row)\n",
    "        "
   ]
  },
  {
   "cell_type": "markdown",
   "metadata": {},
   "source": [
    "And printing a sample of our new lists, looks like it worked!"
   ]
  },
  {
   "cell_type": "code",
   "execution_count": 4,
   "metadata": {},
   "outputs": [
    {
     "name": "stdout",
     "output_type": "stream",
     "text": [
      "First Five Rows of Ask Posts\n",
      "[['12296411', 'Ask HN: How to improve my personal website?', '', '2', '6', 'ahmedbaracat', '8/16/2016 9:55'], ['10610020', 'Ask HN: Am I the only one outraged by Twitter shutting down share counts?', '', '28', '29', 'tkfx', '11/22/2015 13:43'], ['11610310', 'Ask HN: Aby recent changes to CSS that broke mobile?', '', '1', '1', 'polskibus', '5/2/2016 10:14'], ['12210105', 'Ask HN: Looking for Employee #3 How do I do it?', '', '1', '3', 'sph130', '8/2/2016 14:20'], ['10394168', 'Ask HN: Someone offered to buy my browser extension from me. What now?', '', '28', '17', 'roykolak', '10/15/2015 16:38']]\n",
      "\n",
      "\n",
      "The list is 1,744 rows long\n",
      "\n",
      "\n",
      "First Five Rows of Show Posts\n",
      "[['10627194', 'Show HN: Wio Link  ESP8266 Based Web of Things Hardware Development Platform', 'https://iot.seeed.cc', '26', '22', 'kfihihc', '11/25/2015 14:03'], ['10646440', 'Show HN: Something pointless I made', 'http://dn.ht/picklecat/', '747', '102', 'dhotson', '11/29/2015 22:46'], ['11590768', 'Show HN: Shanhu.io, a programming playground powered by e8vm', 'https://shanhu.io', '1', '1', 'h8liu', '4/28/2016 18:05'], ['12178806', 'Show HN: Webscope  Easy way for web developers to communicate with Clients', 'http://webscopeapp.com', '3', '3', 'fastbrick', '7/28/2016 7:11'], ['10872799', 'Show HN: GeoScreenshot  Easily test Geo-IP based web pages', 'https://www.geoscreenshot.com/', '1', '9', 'kpsychwave', '1/9/2016 20:45']]\n",
      "\n",
      "\n",
      "The list is 1,162 rows long\n",
      "\n",
      "\n",
      "First Five Rows of Other Posts\n",
      "[['12224879', 'Interactive Dynamic Video', 'http://www.interactivedynamicvideo.com/', '386', '52', 'ne0phyte', '8/4/2016 11:52'], ['10975351', 'How to Use Open Source and Shut the Fuck Up at the Same Time', 'http://hueniverse.com/2016/01/26/how-to-use-open-source-and-shut-the-fuck-up-at-the-same-time/', '39', '10', 'josep2', '1/26/2016 19:30'], ['11964716', \"Florida DJs May Face Felony for April Fools' Water Joke\", 'http://www.thewire.com/entertainment/2013/04/florida-djs-april-fools-water-joke/63798/', '2', '1', 'vezycash', '6/23/2016 22:20'], ['11919867', 'Technology ventures: From Idea to Enterprise', 'https://www.amazon.com/Technology-Ventures-Enterprise-Thomas-Byers/dp/0073523429', '3', '1', 'hswarna', '6/17/2016 0:01'], ['10301696', 'Note by Note: The Making of Steinway L1037 (2007)', 'http://www.nytimes.com/2007/11/07/movies/07stein.html?_r=0', '8', '2', 'walterbell', '9/30/2015 4:12']]\n",
      "\n",
      "\n",
      "The list is 17,194 rows long\n"
     ]
    }
   ],
   "source": [
    "print(\"First Five Rows of Ask Posts\")\n",
    "print(ask_posts[0:5])\n",
    "print(\"\\n\")\n",
    "print(f\"The list is {len(ask_posts):,} rows long\")\n",
    "print(\"\\n\")\n",
    "print(\"First Five Rows of Show Posts\")\n",
    "print(show_posts[0:5])\n",
    "print(\"\\n\")\n",
    "print(f\"The list is {len(show_posts):,} rows long\")\n",
    "print(\"\\n\")\n",
    "print(\"First Five Rows of Other Posts\")\n",
    "print(other_posts[0:5])\n",
    "print(\"\\n\")\n",
    "print(f\"The list is {len(other_posts):,} rows long\")"
   ]
  },
  {
   "cell_type": "markdown",
   "metadata": {},
   "source": [
    "### Next, let's determine if ask posts or show posts receive more comments on average."
   ]
  },
  {
   "cell_type": "code",
   "execution_count": 5,
   "metadata": {},
   "outputs": [
    {
     "name": "stdout",
     "output_type": "stream",
     "text": [
      "Total number of ask comments is 24,483\n",
      "14.04 comments per post\n"
     ]
    }
   ],
   "source": [
    "#First let's find the total number of comments in ask posts \n",
    "#and assign it to a variable\n",
    "\n",
    "total_ask_comments = 0\n",
    "\n",
    "for row in ask_posts:\n",
    "    num_comments = int(row[4])\n",
    "    total_ask_comments += num_comments\n",
    "    \n",
    "print(f\"Total number of ask comments is {total_ask_comments:,}\")\n",
    "\n",
    "#Then compute the average number of comments on ask posts\n",
    "\n",
    "avg_ask_comments = total_ask_comments / len(ask_posts)\n",
    "print(f\"{avg_ask_comments:.2f} comments per post\")\n",
    "    "
   ]
  },
  {
   "cell_type": "markdown",
   "metadata": {},
   "source": [
    "Out of all of the Ask HN posts, each posts receives on average 14 comments per post."
   ]
  },
  {
   "cell_type": "code",
   "execution_count": 6,
   "metadata": {},
   "outputs": [
    {
     "name": "stdout",
     "output_type": "stream",
     "text": [
      "Total number of show comments is 11,988\n",
      "10.32 comments per post\n"
     ]
    }
   ],
   "source": [
    "#Now we will do the same process to calculate the numnber of\n",
    "# show comments\n",
    "total_show_comments = 0\n",
    "\n",
    "for row in show_posts:\n",
    "    num_comments = int(row[4])\n",
    "    total_show_comments += num_comments\n",
    "\n",
    "print(f\"Total number of show comments is {total_show_comments:,}\")\n",
    "\n",
    "#Then compute average number of comments on show posts\n",
    "avg_show_comments = total_show_comments / len(show_posts)\n",
    "print(f\"{avg_show_comments:.2f} comments per post\")"
   ]
  },
  {
   "cell_type": "markdown",
   "metadata": {},
   "source": [
    "Out of all of the Show HN posts, each posts receives on average 10 comments per post."
   ]
  },
  {
   "cell_type": "markdown",
   "metadata": {},
   "source": [
    "|HN Posts| Total | Average|\n",
    "|-------|-------|--------|\n",
    "|ask_post|24,483 | 14.04|\n",
    "|show_post|11,988|10.32|"
   ]
  },
  {
   "cell_type": "markdown",
   "metadata": {},
   "source": [
    "Looking at both the number of comments on Ask HN Posts vs. Show HN posts, and thus, the level of engagement, **Ask HN receives, on average, a higher level of enagement and comments per post.** \n",
    "\n",
    "This isn't too surprising when looking at both the purpose and format of each posts. Ask HN posts come from a place of seeking knowledge, advice, critique and is made for engagement and exchanging ideas. It seeks active engagement.\n",
    "\n",
    "The Show HN posts are a bit more passive. It's aimed as a Show and Tell of sorts, where posters will share news, articles, projects. While it may not necessarily seek advice or engagement outright, that doesn't preclude users from engaging with those posts to further the conversation. \n",
    "\n",
    "Regardless, since **ask posts** are more likely to receive comments, we'll focus the remaining analysis on just these posts."
   ]
  },
  {
   "cell_type": "markdown",
   "metadata": {},
   "source": [
    "We will now determine if ask posts created at certain *time* are more likely to attract comments. We will do the following to perform this analysis:\n",
    "* Calculate the amount of ask posts created in each hour of the day, along with the numnber of comments received.\n",
    "* Calculate the average number of comments ask posts receive by hour created."
   ]
  },
  {
   "cell_type": "code",
   "execution_count": 7,
   "metadata": {},
   "outputs": [],
   "source": [
    "#First I will tackle calculating the amount of ask posts and comments\n",
    "#by the hour they were created\n",
    "\n",
    "import datetime as dt\n",
    "\n",
    "result_list = []\n",
    "\n",
    "for row in ask_posts:\n",
    "    created_at = row[6]\n",
    "    num_comments = int(row[4])\n",
    "    result_list.append([created_at, num_comments])"
   ]
  },
  {
   "cell_type": "code",
   "execution_count": 8,
   "metadata": {},
   "outputs": [
    {
     "name": "stdout",
     "output_type": "stream",
     "text": [
      "[['8/16/2016 9:55', 6], ['11/22/2015 13:43', 29], ['5/2/2016 10:14', 1], ['8/2/2016 14:20', 3], ['10/15/2015 16:38', 17]]\n"
     ]
    }
   ],
   "source": [
    "print(result_list[0:5])"
   ]
  },
  {
   "cell_type": "markdown",
   "metadata": {},
   "source": [
    "### Show total number of hour and comments in different dictionaries"
   ]
  },
  {
   "cell_type": "markdown",
   "metadata": {},
   "source": [
    "Next I will create two dictionaries to store the following data:\n",
    "* Counts by Hour: Will contain the number of ask posts created during each hour of the day\n",
    "* Comments by Hour: Will contain the corresponding number of comments ask posts created at each hour received "
   ]
  },
  {
   "cell_type": "code",
   "execution_count": 9,
   "metadata": {},
   "outputs": [
    {
     "name": "stdout",
     "output_type": "stream",
     "text": [
      "Counts by Hour : {'09': 45, '13': 85, '10': 59, '14': 107, '16': 108, '23': 68, '12': 73, '17': 100, '15': 116, '21': 109, '20': 80, '02': 58, '18': 109, '03': 54, '05': 46, '19': 110, '01': 60, '22': 71, '08': 48, '04': 47, '00': 55, '06': 44, '07': 34, '11': 58}\n",
      "\n",
      "\n",
      "Comments by Hour : {'09': 251, '13': 1253, '10': 793, '14': 1416, '16': 1814, '23': 543, '12': 687, '17': 1146, '15': 4477, '21': 1745, '20': 1722, '02': 1381, '18': 1439, '03': 421, '05': 464, '19': 1188, '01': 683, '22': 479, '08': 492, '04': 337, '00': 447, '06': 397, '07': 267, '11': 641}\n"
     ]
    }
   ],
   "source": [
    "counts_by_hour = {}\n",
    "comments_by_hour = {}\n",
    "\n",
    "date_format = \"%m/%d/%Y %H:%M\"\n",
    "\n",
    "for row in result_list:\n",
    "    \n",
    "    comments = row[1]\n",
    "    time = row[0]\n",
    "    time = dt.datetime.strptime(time, date_format).strftime('%H')\n",
    "    \n",
    "    if time in counts_by_hour:\n",
    "        counts_by_hour[time] += 1\n",
    "        comments_by_hour[time] += comments\n",
    "        \n",
    "    else:\n",
    "        counts_by_hour[time] = 1\n",
    "        comments_by_hour[time] = comments\n",
    "\n",
    "print(f\"Counts by Hour : {counts_by_hour}\")\n",
    "print(\"\\n\")\n",
    "print(f\"Comments by Hour : {comments_by_hour}\")"
   ]
  },
  {
   "cell_type": "markdown",
   "metadata": {},
   "source": [
    "### Show the average number of comments by hour"
   ]
  },
  {
   "cell_type": "markdown",
   "metadata": {},
   "source": [
    "Now, let's calculate the average number of comments for posts created during each hour of the day. I will do this by creating a list of lists containing the hours during which posts were created and the average number of comments those posts received."
   ]
  },
  {
   "cell_type": "code",
   "execution_count": 10,
   "metadata": {},
   "outputs": [
    {
     "name": "stdout",
     "output_type": "stream",
     "text": [
      "[['09', 5.5777777777777775], ['13', 14.741176470588234], ['10', 13.440677966101696], ['14', 13.233644859813085], ['16', 16.796296296296298], ['23', 7.985294117647059], ['12', 9.41095890410959], ['17', 11.46], ['15', 38.5948275862069], ['21', 16.009174311926607], ['20', 21.525], ['02', 23.810344827586206], ['18', 13.20183486238532], ['03', 7.796296296296297], ['05', 10.08695652173913], ['19', 10.8], ['01', 11.383333333333333], ['22', 6.746478873239437], ['08', 10.25], ['04', 7.170212765957447], ['00', 8.127272727272727], ['06', 9.022727272727273], ['07', 7.852941176470588], ['11', 11.051724137931034]]\n"
     ]
    }
   ],
   "source": [
    "avg_by_hour = []\n",
    "\n",
    "for hour in comments_by_hour:\n",
    "    avg_by_hour.append([hour, comments_by_hour[hour]/counts_by_hour[hour]])\n",
    "\n",
    "print(avg_by_hour)\n",
    "\n",
    "#The below list is a list of lists in which the first element is the hour\n",
    "# and the second element is the average number of comments per post.\n"
   ]
  },
  {
   "cell_type": "markdown",
   "metadata": {},
   "source": [
    "Now that we have the average number of comments for posts created during each hour of the day, let's finish by sorting the lists of lists and printing the five highest performing hours."
   ]
  },
  {
   "cell_type": "code",
   "execution_count": 11,
   "metadata": {},
   "outputs": [
    {
     "name": "stdout",
     "output_type": "stream",
     "text": [
      "[[5.5777777777777775, '09'], [14.741176470588234, '13'], [13.440677966101696, '10'], [13.233644859813085, '14'], [16.796296296296298, '16'], [7.985294117647059, '23'], [9.41095890410959, '12'], [11.46, '17'], [38.5948275862069, '15'], [16.009174311926607, '21'], [21.525, '20'], [23.810344827586206, '02'], [13.20183486238532, '18'], [7.796296296296297, '03'], [10.08695652173913, '05'], [10.8, '19'], [11.383333333333333, '01'], [6.746478873239437, '22'], [10.25, '08'], [7.170212765957447, '04'], [8.127272727272727, '00'], [9.022727272727273, '06'], [7.852941176470588, '07'], [11.051724137931034, '11']]\n"
     ]
    }
   ],
   "source": [
    "swap_avg_by_hour = []\n",
    "\n",
    "for row in avg_by_hour:\n",
    "    swap_avg_by_hour.append([row[1], row[0]])\n",
    "\n",
    "print(swap_avg_by_hour)\n",
    "    "
   ]
  },
  {
   "cell_type": "markdown",
   "metadata": {},
   "source": [
    "Now that i have created a list with the columns swapped, I will now sort the the list in decending order, by the average number of comments."
   ]
  },
  {
   "cell_type": "markdown",
   "metadata": {},
   "source": [
    "### Show the top 5 hours "
   ]
  },
  {
   "cell_type": "code",
   "execution_count": 12,
   "metadata": {},
   "outputs": [
    {
     "name": "stdout",
     "output_type": "stream",
     "text": [
      "Top 5 Hours for Ask Posts Comments : [[38.5948275862069, '15'], [23.810344827586206, '02'], [21.525, '20'], [16.796296296296298, '16'], [16.009174311926607, '21']]\n"
     ]
    }
   ],
   "source": [
    "sorted_swap = sorted(swap_avg_by_hour, reverse=True)\n",
    "print(\"Top 5 Hours for Ask Posts Comments :\", sorted_swap[:5])"
   ]
  },
  {
   "cell_type": "markdown",
   "metadata": {},
   "source": [
    "# Top 5 Hours for Ask Posts Comments"
   ]
  },
  {
   "cell_type": "code",
   "execution_count": 13,
   "metadata": {},
   "outputs": [
    {
     "name": "stdout",
     "output_type": "stream",
     "text": [
      "15:00 PM: 38.59 average comments per post\n",
      "02:00 AM: 23.81 average comments per post\n",
      "20:00 PM: 21.52 average comments per post\n",
      "16:00 PM: 16.80 average comments per post\n",
      "21:00 PM: 16.01 average comments per post\n"
     ]
    }
   ],
   "source": [
    "for row in sorted_swap[:5]:\n",
    "    average = row[0]\n",
    "    time = row[1]\n",
    "    time = dt.datetime.strptime(time, '%H').strftime(\"%H:%M %p\")\n",
    "    string = \"{}: {:.2f} average comments per post\".format(time, average)\n",
    "    print(string)"
   ]
  },
  {
   "cell_type": "markdown",
   "metadata": {},
   "source": [
    "As we can see and based on the datset documentation, the timezone used is the eastern time in the US. 3pm ET is the best time to post an Ask HN post if the goal is to garner the highest average number of comments or engagement for the post. This is followed up 2am ET in the morning, a popular time amongst the tech, hacker community, followed up 8pm, 4pm and 9pm. It seems the time blocks that see the most engagement is in the afternoon lull, and the later hours, assumed to be after the regular work day.  "
   ]
  },
  {
   "cell_type": "markdown",
   "metadata": {},
   "source": [
    "### Determine HN posts points per average"
   ]
  },
  {
   "cell_type": "code",
   "execution_count": 14,
   "metadata": {},
   "outputs": [
    {
     "name": "stdout",
     "output_type": "stream",
     "text": [
      "Total number of ask post points is 26,268\n",
      "15.06 points per post\n"
     ]
    }
   ],
   "source": [
    "# calculate total and average ask_post points\n",
    "#Column index for points is i = 3\n",
    "\n",
    "total_ask_points = 0 \n",
    "\n",
    "for row in ask_posts:\n",
    "    num_points = int(row[3])\n",
    "    total_ask_points += num_points\n",
    "    \n",
    "print(f\"Total number of ask post points is {total_ask_points:,}\")\n",
    "\n",
    "#Then compute the average number of points on ask posts\n",
    "\n",
    "avg_ask_points = total_ask_points / len(ask_posts)\n",
    "print(f\"{avg_ask_points:.2f} points per post\")\n"
   ]
  },
  {
   "cell_type": "code",
   "execution_count": 15,
   "metadata": {},
   "outputs": [
    {
     "name": "stdout",
     "output_type": "stream",
     "text": [
      "Total number of show post points is 32,019\n",
      "27.56 points per post\n"
     ]
    }
   ],
   "source": [
    "# calculate total and average show_post points\n",
    "total_show_points = 0 \n",
    "\n",
    "for row in show_posts:\n",
    "    num_points = int(row[3])\n",
    "    total_show_points += num_points\n",
    "    \n",
    "print(f\"Total number of show post points is {total_show_points:,}\")\n",
    "\n",
    "#Then compute the average number of points on ask posts\n",
    "\n",
    "avg_show_points = total_show_points / len(show_posts)\n",
    "print(f\"{avg_show_points:.2f} points per post\")"
   ]
  },
  {
   "cell_type": "markdown",
   "metadata": {},
   "source": [
    "Remembering that the points signify the number of \"up\" votes different posts receive, we can see that show posts tend to receive on average a higher number of up votes, signifying a positive experience between the user and the post. "
   ]
  },
  {
   "cell_type": "markdown",
   "metadata": {},
   "source": [
    "|Post Type|Total Points|Average Points|\n",
    "|---------|------------|--------------|\n",
    "|Ask HN   | 26,268     | 15.06|\n",
    "|Show HN | 32,019       | 27.56|"
   ]
  },
  {
   "cell_type": "markdown",
   "metadata": {},
   "source": [
    "### Show the number of hours and number of points by hour in different dictionaries\n",
    "For this analysis, since Show HN post points were high, we will explore that list for time data"
   ]
  },
  {
   "cell_type": "code",
   "execution_count": 18,
   "metadata": {},
   "outputs": [
    {
     "name": "stdout",
     "output_type": "stream",
     "text": [
      "Post Counts by Hour : {'14': 86, '22': 46, '18': 61, '07': 26, '20': 60, '05': 19, '16': 93, '19': 55, '15': 78, '03': 27, '17': 93, '06': 16, '02': 30, '13': 99, '08': 34, '21': 47, '04': 26, '11': 44, '12': 61, '23': 36, '09': 30, '01': 28, '10': 36, '00': 31}\n",
      "\n",
      "\n",
      "Points by Hour : {'14': 2187, '22': 1856, '18': 2215, '07': 494, '20': 1819, '05': 104, '16': 2634, '19': 1702, '15': 2228, '03': 679, '17': 2521, '06': 375, '02': 340, '13': 2438, '08': 519, '21': 866, '04': 386, '11': 1480, '12': 2543, '23': 1526, '09': 553, '01': 700, '10': 681, '00': 1173}\n"
     ]
    }
   ],
   "source": [
    "#First I will tackle calculating the amount of show posts and points\n",
    "#by the hour they were created\n",
    "\n",
    "result_list_point = []\n",
    "\n",
    "for row in show_posts:\n",
    "    created_at = row[6]\n",
    "    num_points = int(row[3])\n",
    "    result_list_point.append([created_at, num_points])\n",
    "    \n",
    "points_by_hour = {}\n",
    "p_counts_by_hour = {}\n",
    "date_format = \"%m/%d/%Y %H:%M\"\n",
    "\n",
    "for row in result_list_point:\n",
    "    \n",
    "    points = row[1]\n",
    "    time = row[0]\n",
    "    time = dt.datetime.strptime(time, date_format).strftime('%H')\n",
    "    \n",
    "    if time in p_counts_by_hour:\n",
    "        p_counts_by_hour[time] += 1\n",
    "        points_by_hour[time] += points\n",
    "        \n",
    "    else:\n",
    "        p_counts_by_hour[time] = 1\n",
    "        points_by_hour[time] = points\n",
    "\n",
    "print(f\"Post Counts by Hour : {p_counts_by_hour}\")\n",
    "print(\"\\n\")\n",
    "print(f\"Points by Hour : {points_by_hour}\")\n",
    "    "
   ]
  },
  {
   "cell_type": "markdown",
   "metadata": {},
   "source": [
    "### Average Points By Hour"
   ]
  },
  {
   "cell_type": "code",
   "execution_count": 20,
   "metadata": {},
   "outputs": [
    {
     "name": "stdout",
     "output_type": "stream",
     "text": [
      "[['14', 25.430232558139537], ['22', 40.34782608695652], ['18', 36.31147540983606], ['07', 19.0], ['20', 30.316666666666666], ['05', 5.473684210526316], ['16', 28.322580645161292], ['19', 30.945454545454545], ['15', 28.564102564102566], ['03', 25.14814814814815], ['17', 27.107526881720432], ['06', 23.4375], ['02', 11.333333333333334], ['13', 24.626262626262626], ['08', 15.264705882352942], ['21', 18.425531914893618], ['04', 14.846153846153847], ['11', 33.63636363636363], ['12', 41.68852459016394], ['23', 42.388888888888886], ['09', 18.433333333333334], ['01', 25.0], ['10', 18.916666666666668], ['00', 37.83870967741935]]\n"
     ]
    }
   ],
   "source": [
    "# Create an empty list for average points by hour\n",
    "\n",
    "avg_by_hour = []\n",
    "\n",
    "for hour in points_by_hour:\n",
    "    avg_by_hour.append([hour, points_by_hour[hour]/p_counts_by_hour[hour]])\n",
    "\n",
    "print(avg_by_hour)\n",
    "\n",
    "#The below list is a list of lists in which the first element is the hour\n",
    "# and the second element is the average number of comments per post.\n",
    "    "
   ]
  },
  {
   "cell_type": "code",
   "execution_count": 25,
   "metadata": {},
   "outputs": [
    {
     "name": "stdout",
     "output_type": "stream",
     "text": [
      "Top 5 Hours for Show Posts Points : [[42.388888888888886, '23'], [41.68852459016394, '12'], [40.34782608695652, '22'], [37.83870967741935, '00'], [36.31147540983606, '18']]\n"
     ]
    }
   ],
   "source": [
    "swap_avg_by_hour = []\n",
    "\n",
    "for row in avg_by_hour:\n",
    "    swap_avg_by_hour.append([row[1], row[0]])\n",
    "\n",
    "sorted_swap = sorted(swap_avg_by_hour, reverse=True)\n",
    "print(\"Top 5 Hours for Show Posts Points :\", sorted_swap[:5])\n"
   ]
  },
  {
   "cell_type": "markdown",
   "metadata": {},
   "source": [
    "THe hour that receives the highest average number of points or upvotes is 11pm EST."
   ]
  },
  {
   "cell_type": "markdown",
   "metadata": {},
   "source": [
    "### Top 5 Hours for Show Posts Points"
   ]
  },
  {
   "cell_type": "code",
   "execution_count": 29,
   "metadata": {},
   "outputs": [
    {
     "name": "stdout",
     "output_type": "stream",
     "text": [
      "Top 5 Hours for Points on 'Show HN' posts\n",
      "23:00 PM: 42.39 average points per post\n",
      "12:00 PM: 41.69 average points per post\n",
      "22:00 PM: 40.35 average points per post\n",
      "00:00 AM: 37.84 average points per post\n",
      "18:00 PM: 36.31 average points per post\n"
     ]
    }
   ],
   "source": [
    "print(\"Top 5 Hours for Points on 'Show HN' posts\")\n",
    "for row in sorted_swap[:5]:\n",
    "    average = row[0]\n",
    "    time = row[1]\n",
    "    time = dt.datetime.strptime(time, '%H').strftime(\"%H:%M %p\")\n",
    "    string = \"{}: {:.2f} average points per post\".format(time, average)\n",
    "    print(string)"
   ]
  },
  {
   "cell_type": "markdown",
   "metadata": {},
   "source": [
    "The top 5 hours for most upvotes from the Hacker News community for show posts are 11:00pm ET, 12pm ET, 10:00pm ET, 12am ET, and 6pm ET."
   ]
  },
  {
   "cell_type": "markdown",
   "metadata": {},
   "source": [
    "## Result Summary\n",
    "\n",
    "This project analyzed ask posts and show posts on the Hacker News platform to dtermine which type of post and timer period received the most comments and points, on average.\n",
    "\n",
    "Based on this analysis, to optimize the possibility of receiving more comments and engagement from the community, we'd recommend users to post on the hacker news platform using the 'ask hn' title and possibly create the post sometime between the time period of 15:00pm - 16:00pm EST or 12:00pm - 1:00pm PST.\n",
    "\n",
    "Furthermore, when looking at both types of posts based on points or upvotes received, the data shows that there are more points on average for show posts than there are for ask posts. This suggests that while 'ask hn' posts are more likely to receive more comments from the community, 'show hn' posts tend to receive more points on average. \n",
    "\n",
    "Summary as follows:\n",
    "\n",
    "|Post Type|Total Points| Avg Points | Total Comments| Avg Comments|\n",
    "|---------|------------|------------|---------------|-------------|\n",
    "|Ask HN   | 26,268     | 15.06      |     24,483    |      14.04  |\n",
    "| Show HN | 32,019     | 27.56      |      11,988   |   10.32     |"
   ]
  }
 ],
 "metadata": {
  "kernelspec": {
   "display_name": "Python 3",
   "language": "python",
   "name": "python3"
  },
  "language_info": {
   "codemirror_mode": {
    "name": "ipython",
    "version": 3
   },
   "file_extension": ".py",
   "mimetype": "text/x-python",
   "name": "python",
   "nbconvert_exporter": "python",
   "pygments_lexer": "ipython3",
   "version": "3.8.5"
  }
 },
 "nbformat": 4,
 "nbformat_minor": 2
}
